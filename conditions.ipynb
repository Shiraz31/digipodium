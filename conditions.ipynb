{
 "cells": [
  {
   "cell_type": "code",
   "execution_count": 3,
   "metadata": {},
   "outputs": [
    {
     "name": "stdout",
     "output_type": "stream",
     "text": [
      "invalid username or password\n"
     ]
    }
   ],
   "source": [
    "username=input('enter your username')\n",
    "password=input('enter your password')\n",
    "if username == 'shiraz':\n",
    "    if password == '456':\n",
    "        print (\"hi shiraz\")\n",
    "else:\n",
    "    print(\"invalid username or password\")\n"
   ]
  },
  {
   "cell_type": "markdown",
   "metadata": {},
   "source": [
    "if basic salary is less than 10000 then hra is 10% of basic salary and da is 90% of basic salary"
   ]
  },
  {
   "cell_type": "markdown",
   "metadata": {},
   "source": [
    "if basic salary is greater than 10000then hra is 20% of basic salary and da is 80% of basic salary"
   ]
  },
  {
   "cell_type": "markdown",
   "metadata": {},
   "source": [
    "if basic salary is greater than 20000 then hra is 25% of basic salary and da is 75% of basic salary"
   ]
  },
  {
   "cell_type": "code",
   "execution_count": 14,
   "metadata": {},
   "outputs": [
    {
     "name": "stdout",
     "output_type": "stream",
     "text": [
      "your hra is= 11320.0\n",
      "your da is= 45280.0\n"
     ]
    }
   ],
   "source": [
    "salary =float(input(\"enter your salary\"))\n",
    "if salary<10000:\n",
    "    hra=0.1*salary\n",
    "    da=0.9*salary\n",
    "elif salary>10000:\n",
    "   hra=0.2*salary\n",
    "   da=0.8*salary\n",
    "elif salary>20000:\n",
    "    hra=0.25*salary\n",
    "    da=0.75*salary\n",
    "print(\"your hra is=\",hra)\n",
    "print(\"your da is=\",da)\n"
   ]
  },
  {
   "cell_type": "code",
   "execution_count": null,
   "metadata": {},
   "outputs": [],
   "source": []
  }
 ],
 "metadata": {
  "kernelspec": {
   "display_name": "Python 3.9.12 ('base')",
   "language": "python",
   "name": "python3"
  },
  "language_info": {
   "codemirror_mode": {
    "name": "ipython",
    "version": 3
   },
   "file_extension": ".py",
   "mimetype": "text/x-python",
   "name": "python",
   "nbconvert_exporter": "python",
   "pygments_lexer": "ipython3",
   "version": "3.9.12"
  },
  "orig_nbformat": 4,
  "vscode": {
   "interpreter": {
    "hash": "ec1f3a01e8cbf6e816c25ad67da4c5ec5f098503e72f4b366bb965c25ecb8189"
   }
  }
 },
 "nbformat": 4,
 "nbformat_minor": 2
}
