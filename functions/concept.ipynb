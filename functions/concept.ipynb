{
 "cells": [
  {
   "cell_type": "code",
   "execution_count": null,
   "metadata": {},
   "outputs": [],
   "source": [
    "p=int(input(\"Principal\"))\n",
    "r="
   ]
  },
  {
   "cell_type": "code",
   "execution_count": null,
   "metadata": {},
   "outputs": [],
   "source": [
    "#defining a function\n",
    "def hello():\n",
    "    print('Hello world')\n"
   ]
  },
  {
   "cell_type": "code",
   "execution_count": null,
   "metadata": {},
   "outputs": [],
   "source": [
    "def is_prime():\n",
    "    num= int(input('enter a number'))\n",
    "    if num > 1:\n",
    "        for i in range(2,num):\n",
    "          if num % i == 0:\n",
    "            print(f'{num} % {i} == {num % i}')\n",
    "            print(num, 'is not a prime number')\n",
    "            break\n",
    "    else:\n",
    "        print(num, 'is a prime number')"
   ]
  },
  {
   "cell_type": "code",
   "execution_count": null,
   "metadata": {},
   "outputs": [],
   "source": []
  }
 ],
 "metadata": {
  "kernelspec": {
   "display_name": "Python 3.9.12 ('base')",
   "language": "python",
   "name": "python3"
  },
  "language_info": {
   "name": "python",
   "version": "3.9.12"
  },
  "orig_nbformat": 4,
  "vscode": {
   "interpreter": {
    "hash": "ec1f3a01e8cbf6e816c25ad67da4c5ec5f098503e72f4b366bb965c25ecb8189"
   }
  }
 },
 "nbformat": 4,
 "nbformat_minor": 2
}
